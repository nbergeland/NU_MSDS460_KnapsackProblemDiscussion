{
 "cells": [
  {
   "cell_type": "code",
   "execution_count": 17,
   "metadata": {},
   "outputs": [],
   "source": [
    "from pulp import *\n"
   ]
  },
  {
   "cell_type": "code",
   "execution_count": 18,
   "metadata": {},
   "outputs": [],
   "source": [
    "#Create variables\n",
    "bedroom_set = LpVariable(\"bedroom_set\", 0, 1, cat = 'Integer')\n",
    "dining_room_set = LpVariable(\"dining_room_set\", 0, 1, cat = 'Integer')\n",
    "computer = LpVariable(\"computer\", 0, 1, cat = 'Integer')\n",
    "sofa = LpVariable(\"sofa\", 0, 1, cat = 'Integer')\n",
    "tv = LpVariable(\"tv\", 0, 1, cat = 'Integer')"
   ]
  },
  {
   "cell_type": "code",
   "execution_count": 24,
   "metadata": {},
   "outputs": [],
   "source": [
    "#create problem to maximize\n",
    "prob = LpProblem(\"problem\", LpMaximize)\n",
    "\n",
    "#define our constraints\n",
    "#constraints\n",
    "\n",
    "prob += 800*bedroom_set + 600*dining_room_set + 300*computer + 400*sofa + 200*tv <= 1100"
   ]
  },
  {
   "cell_type": "code",
   "execution_count": 25,
   "metadata": {
    "scrolled": true
   },
   "outputs": [],
   "source": [
    "#objective function\n",
    "\n",
    "prob += 60*bedroom_set + 48*dining_room_set + 14*computer + 31*sofa + 10*tv "
   ]
  },
  {
   "cell_type": "code",
   "execution_count": 26,
   "metadata": {},
   "outputs": [],
   "source": [
    "#solve\n",
    "solution = prob.solve()"
   ]
  },
  {
   "cell_type": "code",
   "execution_count": 27,
   "metadata": {},
   "outputs": [
    {
     "data": {
      "text/plain": [
       "'Optimal'"
      ]
     },
     "execution_count": 27,
     "metadata": {},
     "output_type": "execute_result"
    }
   ],
   "source": [
    "#Type\n",
    "LpStatus[solution]"
   ]
  },
  {
   "cell_type": "code",
   "execution_count": 28,
   "metadata": {},
   "outputs": [
    {
     "name": "stdout",
     "output_type": "stream",
     "text": [
      "bedroom_set = 0.0\n",
      "computer = 0.0\n",
      "dining_room_set = 1.0\n",
      "sofa = 1.0\n",
      "tv = 0.0\n"
     ]
    }
   ],
   "source": [
    "#Decision Type\n",
    "for var in prob.variables():\n",
    "    print(f\"{var.name} = {var.varValue}\")"
   ]
  },
  {
   "cell_type": "code",
   "execution_count": 29,
   "metadata": {},
   "outputs": [
    {
     "data": {
      "text/plain": [
       "79.0"
      ]
     },
     "execution_count": 29,
     "metadata": {},
     "output_type": "execute_result"
    }
   ],
   "source": [
    "#value\n",
    "value(prob.objective)"
   ]
  },
  {
   "cell_type": "code",
   "execution_count": null,
   "metadata": {},
   "outputs": [],
   "source": []
  }
 ],
 "metadata": {
  "kernelspec": {
   "display_name": "Python 3",
   "language": "python",
   "name": "python3"
  },
  "language_info": {
   "codemirror_mode": {
    "name": "ipython",
    "version": 3
   },
   "file_extension": ".py",
   "mimetype": "text/x-python",
   "name": "python",
   "nbconvert_exporter": "python",
   "pygments_lexer": "ipython3",
   "version": "3.7.4"
  }
 },
 "nbformat": 4,
 "nbformat_minor": 2
}
